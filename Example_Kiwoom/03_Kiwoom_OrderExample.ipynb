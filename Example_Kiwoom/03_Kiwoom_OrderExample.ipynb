{
 "cells": [
  {
   "cell_type": "markdown",
   "metadata": {},
   "source": [
    "### 키움증권 주문 넣어보기\n",
    "\n",
    "- 위키독스에 있는 코드를 따라 쳐서 (https://wikidocs.net/5931) 주문 넣는 부분을 구현한다.\n",
    "\n",
    "- `send_order` 함수를 사용하여 주문을 넣으면 됨."
   ]
  },
  {
   "cell_type": "code",
   "execution_count": 1,
   "metadata": {},
   "outputs": [],
   "source": [
    "import sys\n",
    "from PyQt5.QtWidgets import *\n",
    "from PyQt5.QAxContainer import *\n",
    "from PyQt5.QtCore import *"
   ]
  },
  {
   "cell_type": "code",
   "execution_count": 2,
   "metadata": {},
   "outputs": [],
   "source": [
    "# 계좌번호 넣을 Array 하나 생성해보기\n",
    "accounts_info = []"
   ]
  },
  {
   "cell_type": "code",
   "execution_count": 3,
   "metadata": {},
   "outputs": [],
   "source": [
    "app = QApplication(sys.argv)"
   ]
  },
  {
   "cell_type": "markdown",
   "metadata": {},
   "source": [
    "키움증권 파이썬 모듈을 임포트하고 로그인 작업을 수행한다."
   ]
  },
  {
   "cell_type": "code",
   "execution_count": 4,
   "metadata": {},
   "outputs": [],
   "source": [
    "from Kiwoom import *"
   ]
  },
  {
   "cell_type": "code",
   "execution_count": 5,
   "metadata": {},
   "outputs": [],
   "source": [
    "kiwoom = Kiwoom()"
   ]
  },
  {
   "cell_type": "code",
   "execution_count": 6,
   "metadata": {
    "scrolled": true
   },
   "outputs": [
    {
     "name": "stdout",
     "output_type": "stream",
     "text": [
      "connected\n"
     ]
    }
   ],
   "source": [
    "kiwoom.comm_connect()"
   ]
  },
  {
   "cell_type": "markdown",
   "metadata": {},
   "source": [
    "`get_login_info` 함수를 사용하여 계좌번호 가져오기"
   ]
  },
  {
   "cell_type": "code",
   "execution_count": 7,
   "metadata": {},
   "outputs": [],
   "source": [
    "accounts_num = int(kiwoom.get_login_info(\"ACCOUNT_CNT\"))\n",
    "accounts = kiwoom.get_login_info(\"ACCNO\")"
   ]
  },
  {
   "cell_type": "code",
   "execution_count": 8,
   "metadata": {},
   "outputs": [],
   "source": [
    "# 계좌번호 가져와서 적절히 변경해서 집어넣기.\n",
    "for i in range(0, accounts_num):\n",
    "    accounts_info.append(accounts.split(\";\")[i])"
   ]
  },
  {
   "cell_type": "code",
   "execution_count": null,
   "metadata": {},
   "outputs": [],
   "source": [
    "# 계좌정보가 잘 담겨져 있는지 확인\n",
    "accounts_info"
   ]
  },
  {
   "cell_type": "markdown",
   "metadata": {},
   "source": [
    "`send_order` 함수를 통해서 주문해보기.\n",
    "\n",
    "- 책 안에는 `order_type_lookup` 이라는 옵션값이 존재한다.\n",
    "\n",
    "    - 신규매수: `1`, 신규매도: `2`, 매수취소: `3`, 매도취소: `4`\n",
    "    \n",
    "    - `JSON`으로 구현해 놓았다.\n",
    "    \n",
    "- 호가 옵션\n",
    "    \n",
    "    - 지정가: `\"00\"`, 시장가: `\"03\"`\n",
    "    \n",
    "    \n",
    "- 모의주식에 로그인을 했다면 주식을 시험삼아 매도해볼 수 있다.\n",
    "\n",
    "    - 여기에서는 **삼성전자**(005930) 주식을 매수해보도록 하겠다.\n",
    "    \n",
    "### 주의사항\n",
    "\n",
    "- 꼭 `매수/매도`처리를 할 경우에는 **\"주문 비밀번호\"** 저장해 둘 것. 그렇지 않으면 에러가 난다."
   ]
  },
  {
   "cell_type": "code",
   "execution_count": 11,
   "metadata": {},
   "outputs": [],
   "source": [
    "kiwoom.send_order(\"RQ_1\", \"0101\", accounts_info[0], 1, \"005930\", 1, 0, \"03\", \"\")"
   ]
  },
  {
   "cell_type": "markdown",
   "metadata": {},
   "source": [
    "### 주문처리가 되었는지 확인해보는 방법은 어떻게 될까?\n",
    "\n",
    "- KOA Studio를 사용하여 주문을 넣은 부분을 확인해보는 방법 (`OPT10085`)\n",
    "\n",
    "    - `SetInputValue(\"계좌번호\", \"1234567890\")`\n",
    "    \n",
    "    - `CommRqData(\"RQName\", \"opt10085\", \"0\", \"화면번호\")`\n",
    "    \n",
    "    - **꼭!** 계좌 비밀번호 (모의투자는 **0000**을 추가할 것!\n",
    "\n",
    "- 키움증권 영웅문을 사용한 주문확인 방법\n",
    "\n",
    "    - 키움증권에 로그인하여 모의투자한 항목을 확인해볼 수 있다."
   ]
  },
  {
   "cell_type": "code",
   "execution_count": null,
   "metadata": {},
   "outputs": [],
   "source": []
  }
 ],
 "metadata": {
  "kernelspec": {
   "display_name": "Python 3",
   "language": "python",
   "name": "python3"
  },
  "language_info": {
   "codemirror_mode": {
    "name": "ipython",
    "version": 3
   },
   "file_extension": ".py",
   "mimetype": "text/x-python",
   "name": "python",
   "nbconvert_exporter": "python",
   "pygments_lexer": "ipython3",
   "version": "3.7.2"
  }
 },
 "nbformat": 4,
 "nbformat_minor": 2
}
