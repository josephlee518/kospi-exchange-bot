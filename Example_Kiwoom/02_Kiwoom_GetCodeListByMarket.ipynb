{
 "cells": [
  {
   "cell_type": "markdown",
   "metadata": {},
   "source": [
    "## 키움증권 파이썬 연동\n",
    "\n",
    "- 깃허브 참고: https://github.com/josephlee518/kospi-exchange-bot\n",
    "\n",
    "### 02. 종목코드 가져오기\n",
    "\n",
    "- 동작환경: 윈도우 10 32비트 환경"
   ]
  },
  {
   "cell_type": "code",
   "execution_count": 2,
   "metadata": {},
   "outputs": [
    {
     "data": {
      "text/plain": [
       "'3.7.2 (tags/v3.7.2:9a3ffc0492, Dec 23 2018, 22:20:52) [MSC v.1916 32 bit (Intel)]'"
      ]
     },
     "execution_count": 2,
     "metadata": {},
     "output_type": "execute_result"
    }
   ],
   "source": [
    "import sys\n",
    "sys.version"
   ]
  },
  {
   "cell_type": "code",
   "execution_count": 3,
   "metadata": {},
   "outputs": [],
   "source": [
    "import sys\n",
    "from PyQt5.QtWidgets import *\n",
    "from PyQt5.QAxContainer import *\n",
    "from PyQt5.QtCore import *"
   ]
  },
  {
   "cell_type": "code",
   "execution_count": 4,
   "metadata": {},
   "outputs": [],
   "source": [
    "class Kiwoom(QAxWidget):\n",
    "    \"\"\"\n",
    "    초기설정을 위한 함수\n",
    "    \"\"\"\n",
    "    def __init__(self):\n",
    "        super().__init__()\n",
    "        self._create_kiwoom_instance()\n",
    "        self._set_signal_slots()\n",
    "\n",
    "    def _create_kiwoom_instance(self):\n",
    "        \"\"\"\n",
    "        키움 증권 OCX 연결\n",
    "        \"\"\"\n",
    "        self.setControl(\"KHOPENAPI.KHOpenAPICtrl.1\")\n",
    "\n",
    "    def _set_signal_slots(self):\n",
    "        self.OnEventConnect.connect(self._event_connect)\n",
    "\n",
    "    def comm_connect(self):\n",
    "        self.dynamicCall(\"CommConnect()\")\n",
    "        self.login_event_loop = QEventLoop()\n",
    "        self.login_event_loop.exec_()\n",
    "\n",
    "    def _event_connect(self, err_code):\n",
    "        if err_code == 0:\n",
    "            print(\"connected\")\n",
    "        else:\n",
    "            print(\"disconnected\")\n",
    "\n",
    "        self.login_event_loop.exit()\n",
    "\n",
    "    def get_code_list_by_market(self, market):\n",
    "        code_list = self.dynamicCall(\"GetCodeListByMarket(QString)\", market)\n",
    "        code_list = code_list.split(';')\n",
    "        return code_list[:-1]"
   ]
  },
  {
   "cell_type": "code",
   "execution_count": 5,
   "metadata": {},
   "outputs": [],
   "source": [
    "app = QApplication(sys.argv)"
   ]
  },
  {
   "cell_type": "code",
   "execution_count": 6,
   "metadata": {},
   "outputs": [],
   "source": [
    "kiwoom = Kiwoom()"
   ]
  },
  {
   "cell_type": "code",
   "execution_count": 7,
   "metadata": {},
   "outputs": [
    {
     "name": "stdout",
     "output_type": "stream",
     "text": [
      "connected\n"
     ]
    }
   ],
   "source": [
    "kiwoom.comm_connect()"
   ]
  },
  {
   "cell_type": "markdown",
   "metadata": {},
   "source": [
    "## `get_code_list_by_market` 함수\n",
    "\n",
    "- 이 함수를 사용하면 시장구분 코드에 따른 종목코드를 반환받을 수 있다 함수는 GetCodeListByMarket 을 사용하며, 입력값은 `sMarket`을 사용한다. `sMarket`변수는 `시장구분` 코드이며 `시장구분` 코드는 다음을 참고하면 된다.\n",
    "\n",
    "### 시장구분 코드\n",
    "\n",
    "코드|분류\n",
    "---|---\n",
    "0|장내\n",
    "3|ELW\n",
    "4|뮤추얼펀드\n",
    "5|신주인수권\n",
    "6|리츠\n",
    "8|ETF\n",
    "9|하이일드펀드\n",
    "10|코스닥\n",
    "30|제 3시장"
   ]
  },
  {
   "cell_type": "code",
   "execution_count": 15,
   "metadata": {},
   "outputs": [],
   "source": [
    "code_list = kiwoom.get_code_list_by_market('5')"
   ]
  },
  {
   "cell_type": "code",
   "execution_count": 16,
   "metadata": {
    "scrolled": true
   },
   "outputs": [
    {
     "data": {
      "text/plain": [
       "['J00004217',\n",
       " 'J00064217',\n",
       " 'J00102216',\n",
       " 'J00121218',\n",
       " 'J00263217',\n",
       " 'J00263218',\n",
       " 'J00306217',\n",
       " 'J00503217',\n",
       " 'J01116216',\n",
       " 'J01116217',\n",
       " 'J01116218',\n",
       " 'J01120215',\n",
       " 'J02739218',\n",
       " 'J02758217',\n",
       " 'J03402217',\n",
       " 'J03662216',\n",
       " 'J04204217',\n",
       " 'J04267217',\n",
       " 'J04320215',\n",
       " 'J05011217',\n",
       " 'J05242217',\n",
       " 'J08280218',\n",
       " 'J09037215',\n",
       " 'J09664218',\n",
       " 'J10961219',\n",
       " 'J12304216',\n",
       " 'J13176218',\n",
       " 'J14107217',\n",
       " 'J21433218']"
      ]
     },
     "execution_count": 16,
     "metadata": {},
     "output_type": "execute_result"
    }
   ],
   "source": [
    "code_list"
   ]
  },
  {
   "cell_type": "code",
   "execution_count": null,
   "metadata": {},
   "outputs": [],
   "source": []
  }
 ],
 "metadata": {
  "kernelspec": {
   "display_name": "Python 3",
   "language": "python",
   "name": "python3"
  },
  "language_info": {
   "codemirror_mode": {
    "name": "ipython",
    "version": 3
   },
   "file_extension": ".py",
   "mimetype": "text/x-python",
   "name": "python",
   "nbconvert_exporter": "python",
   "pygments_lexer": "ipython3",
   "version": "3.7.2"
  }
 },
 "nbformat": 4,
 "nbformat_minor": 2
}
